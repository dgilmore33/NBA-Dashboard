{
 "cells": [
  {
   "cell_type": "code",
   "execution_count": null,
   "id": "026e2eaf",
   "metadata": {},
   "outputs": [],
   "source": [
    "import pandas as pd\n",
    "import matplotlib.pyplot as plt\n",
    "from nba_api.stats.static import players\n",
    "from nba_api.stats.endpoints import commonplayerinfo, cumestatsplayer\n",
    "from nba_api.stats.endpoints import playergamelog\n",
    "from NBA_helpers import  map_wl, clean_df\n",
    "\n",
    "from dash import Dash, html, dcc, callback, Output, Input, State\n",
    "import plotly.express as px"
   ]
  },
  {
   "cell_type": "code",
   "execution_count": null,
   "id": "e3de1d5b",
   "metadata": {},
   "outputs": [],
   "source": [
    "# read player names by command line\n",
    "lst = [\"Jamal Murray\", \"Nikola Jokic\", \"Kentavious Caldwell\", \"Paul George\", \"Mason Plumlee\"]\n",
    "lg = \"00\"\n",
    "plyrs = players.get_players()"
   ]
  },
  {
   "cell_type": "markdown",
   "id": "c5d863b8",
   "metadata": {},
   "source": [
    "# Player Search\n",
    "* Can find `player_id` by Full Name\n",
    "* DataBase of Player names can be quirky, maybe a regex?\n",
    "* TODO:: Review Docstring for method to determine unexpected behavior (0 matches/multiple matches)"
   ]
  },
  {
   "cell_type": "code",
   "execution_count": null,
   "id": "0f82c515",
   "metadata": {},
   "outputs": [],
   "source": [
    "plyr_names = map(lambda y: y[\"full_name\"], filter(lambda x: x['is_active'] == True, plyrs))\n",
    "plyr_names = list(plyr_names)\n",
    "r = {nm : players.find_players_by_full_name(nm)[0][\"id\"] for nm in lst}\n",
    "dat = {nm : playergamelog.PlayerGameLog(player_id=r[nm], season=\"2023\").get_data_frames()[0] for nm in r.keys()}"
   ]
  },
  {
   "cell_type": "markdown",
   "id": "a17f0285",
   "metadata": {},
   "source": [
    "Each item in this dictionary is a `{name : pandas DataFrame}` pair. The DataFrame `info()` output is below"
   ]
  },
  {
   "cell_type": "markdown",
   "id": "e3672d59",
   "metadata": {},
   "source": [
    "# DataFrame Description/Cleaning\n",
    "* Current\n",
    "    * `WL` column is \"L\" or \"W\", object dtype. Map to 1:W, 0:L\n",
    "    * `Matchup` contains opponent detail as well as home/away. Should attempt two RegEx matches in order to determine Home/Away status and then strip the opponent data. Return both pieces of info as a tuple, add each item in tuple to DataFrame. Once a stable method is in place, `git commit` then see how ChatGPT does\n",
    "    * `GAME_DATE` might convert right into a DateTime object\n",
    "    * `SEASON_ID` and `Game_ID` are nominal-numeric, unsure of what they could be used for... consult docs? TODO:: find docs\n",
    "\n",
    "\n",
    "* Future\n",
    "    * Video Available seems cool, will have to call `help` on library function that retrieves DataFrame"
   ]
  },
  {
   "cell_type": "code",
   "execution_count": null,
   "id": "a9dd2b9f",
   "metadata": {},
   "outputs": [],
   "source": [
    "# Create a dictionary of player names : statistics\n",
    "d = dict(\n",
    "            zip(dat.keys(), list( map(clean_df, dat.values()) ))\n",
    "        )"
   ]
  },
  {
   "cell_type": "code",
   "execution_count": null,
   "id": "986bf2dd",
   "metadata": {},
   "outputs": [],
   "source": [
    "stats = ['MIN', 'FGM',\n",
    "       'FGA', 'FG_PCT', 'FG3M', 'FG3A', 'FG3_PCT', 'FTM', 'FTA', 'FT_PCT',\n",
    "       'OREB', 'DREB', 'REB', 'AST', 'STL', 'BLK', 'TOV', 'PF', 'PTS',\n",
    "       'PLUS_MINUS']"
   ]
  },
  {
   "cell_type": "code",
   "execution_count": null,
   "id": "4cf11a36",
   "metadata": {},
   "outputs": [],
   "source": [
    "df = d[\"Paul George\"]\n",
    "\n",
    "app = Dash(\"Player Viz\")\n",
    "\n",
    "app.layout = html.Div([\n",
    "    html.Div([dcc.Dropdown(id=\"stat\", options=stats, value=\"PTS\")], id=\"stat_controls\"),\n",
    "    html.Div([dcc.Dropdown(id=\"player\", options=[{\"label\": nm, \"value\": nm} for nm in lst], value=lst[0])], id=\"plyr_controls\"),\n",
    "    html.Button(\"Add Stat\", id=\"stat_add\"),\n",
    "    html.Button(\"Remove Stat\", id=\"stat_remove\"),\n",
    "    # html.Button(\"Add Player\", id=\"player_add\"),\n",
    "    # html.Button(\"Remove Player\", id=\"player_remove\"),\n",
    "    dcc.Graph(figure = {}, id=\"controls-and-graph\")\n",
    "])\n",
    "\n",
    "@callback(\n",
    "        Output(\"stat_controls\", \"children\"),\n",
    "        Input(\"stat_add\", \"n_clicks\"),\n",
    "        Input(\"stat_remove\", \"n_clicks\"),\n",
    "        State(\"stat_controls\", \"children\"),\n",
    "        allow_duplicate=True\n",
    ")\n",
    "def add_stats(y_clicks, n_clicks, curr_children):\n",
    "    if y_clicks:\n",
    "        return dcc.Dropdown(id=\"stat\", options=stats, value=stats[0])\n",
    "    elif n_clicks:\n",
    "        if curr_children:\n",
    "            curr_children.pop()\n",
    "            return curr_children\n",
    "        else:\n",
    "            return []\n",
    "\n",
    "    \n",
    "@callback(\n",
    "    Output(component_id=\"controls-and-graph\", component_property=\"figure\"),\n",
    "    Input(component_id=\"controls-and-graph\", component_property=\"figure\"),\n",
    "    Input(component_id=\"player\", component_property=\"value\"),\n",
    "    Input(component_id=\"stat\", component_property=\"value\")\n",
    ")\n",
    "def update_graph(fig, player, stat):\n",
    "    if fig:\n",
    "        fig['data'].append(px.line(x=d[player].GameDate, y=d[player][stat], title=f\"{player} {stat} by Game\"))\n",
    "    else:\n",
    "        df = d[player]\n",
    "        fig = px.scatter(df, \n",
    "                        x=\"GameDate\",\n",
    "                        y=stat, \n",
    "                        color=\"WL\", \n",
    "                        color_discrete_sequence=[\"red\", \"green\"],\n",
    "                        #  trendline=\"mean\",\n",
    "                        #  color_discrete_map={0:\"red\", 1:\"green\"}, \n",
    "                        title=f\"{player} {stat} by Game\"\n",
    "                        )\n",
    "    return fig"
   ]
  },
  {
   "cell_type": "markdown",
   "id": "8ec84369",
   "metadata": {},
   "source": [
    "# Run all above to compile dashboard, below will execute/display it"
   ]
  },
  {
   "cell_type": "code",
   "execution_count": null,
   "id": "9a6d78ab",
   "metadata": {},
   "outputs": [],
   "source": [
    "app.run(debug=True)"
   ]
  }
 ],
 "metadata": {
  "kernelspec": {
   "display_name": "Python 3 (ipykernel)",
   "language": "python",
   "name": "python3"
  },
  "language_info": {
   "codemirror_mode": {
    "name": "ipython",
    "version": 3
   },
   "file_extension": ".py",
   "mimetype": "text/x-python",
   "name": "python",
   "nbconvert_exporter": "python",
   "pygments_lexer": "ipython3",
   "version": "3.11.5"
  }
 },
 "nbformat": 4,
 "nbformat_minor": 5
}
