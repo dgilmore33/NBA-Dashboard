{
 "cells": [
  {
   "cell_type": "code",
   "execution_count": 12,
   "id": "774f3874",
   "metadata": {},
   "outputs": [],
   "source": [
    "from nba_api.stats.endpoints import teamgamelog, teaminfocommon\n",
    "from nba_api.stats.static import teams\n"
   ]
  },
  {
   "cell_type": "code",
   "execution_count": 7,
   "id": "3d922428",
   "metadata": {},
   "outputs": [],
   "source": [
    "den = teams.find_teams_by_full_name(\"Denver\")"
   ]
  },
  {
   "cell_type": "code",
   "execution_count": 10,
   "id": "9694d9b3",
   "metadata": {},
   "outputs": [],
   "source": [
    "denID = den[0][\"id\"]"
   ]
  },
  {
   "cell_type": "code",
   "execution_count": 29,
   "id": "1a84d2e1",
   "metadata": {},
   "outputs": [],
   "source": [
    "denInfo = teaminfocommon.TeamInfoCommon(league_id=\"00\", team_id=denID).get_data_frames()"
   ]
  },
  {
   "cell_type": "code",
   "execution_count": 30,
   "id": "8105f858",
   "metadata": {},
   "outputs": [
    {
     "data": {
      "text/plain": [
       "[      TEAM_ID SEASON_YEAR TEAM_CITY TEAM_NAME TEAM_ABBREVIATION  \\\n",
       " 0  1610612743     2022-23    Denver   Nuggets               DEN   \n",
       " \n",
       "   TEAM_CONFERENCE TEAM_DIVISION TEAM_CODE TEAM_SLUG   W   L    PCT  CONF_RANK  \\\n",
       " 0            West     Northwest   nuggets   nuggets  42  19  0.689          1   \n",
       " \n",
       "    DIV_RANK MIN_YEAR MAX_YEAR  \n",
       " 0         1     1976     2022  ,\n",
       "   LEAGUE_ID SEASON_ID     TEAM_ID  PTS_RANK  PTS_PG  REB_RANK  REB_PG  \\\n",
       " 0        00     22022  1610612743         8   116.7        19    42.9   \n",
       " \n",
       "    AST_RANK  AST_PG  OPP_PTS_RANK  OPP_PTS_PG  \n",
       " 0         2    29.0            13       112.7  ,\n",
       "     SEASON_ID\n",
       " 0       21976\n",
       " 1       41976\n",
       " 2       21977\n",
       " 3       41977\n",
       " 4       21978\n",
       " ..        ...\n",
       " 96      12021\n",
       " 97      22021\n",
       " 98      42021\n",
       " 99      12022\n",
       " 100     22022\n",
       " \n",
       " [101 rows x 1 columns]]"
      ]
     },
     "execution_count": 30,
     "metadata": {},
     "output_type": "execute_result"
    }
   ],
   "source": [
    "denInfo"
   ]
  }
 ],
 "metadata": {
  "kernelspec": {
   "display_name": "Python 3",
   "language": "python",
   "name": "python3"
  },
  "language_info": {
   "codemirror_mode": {
    "name": "ipython",
    "version": 3
   },
   "file_extension": ".py",
   "mimetype": "text/x-python",
   "name": "python",
   "nbconvert_exporter": "python",
   "pygments_lexer": "ipython3",
   "version": "3.7.7"
  }
 },
 "nbformat": 4,
 "nbformat_minor": 5
}
